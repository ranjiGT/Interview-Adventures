{
 "cells": [
  {
   "cell_type": "markdown",
   "id": "4e13d9d6",
   "metadata": {},
   "source": [
    "# Screening Test\n",
    "\n",
    "## The interview process was completely based on a pre-task which was given in advance before the meeting. It was expected to be solved in 2 hours."
   ]
  },
  {
   "cell_type": "markdown",
   "id": "e8a01959",
   "metadata": {},
   "source": [
    "## Task:\n",
    "\n",
    "Given `customer_details.csv` and `level_readings_cleaned.csv`, build a REST API using Python with the end points specified below. To simplify the data handling, just store the data in memory and don’t use a database."
   ]
  },
  {
   "cell_type": "markdown",
   "id": "ff75ced8",
   "metadata": {},
   "source": [
    "| **Endpoint** | **Description**     | \n",
    "| :------------- | :----------: | \n",
    "| /api/level_readings?<**tank_id**>&<**n**> |Provide the level readings for the tank specified by **tank_id** for the last **n** weeks.|\n",
    "|/api/daily_consumption?<**tank_id**>&<**n**>|Provide the average daily consumption for the tank specified by **tank_id** for the last **n** days.|\n",
    "|/api/market_segment?<**country**>|Provide the breakdown of the market segments for the specified **country**.|"
   ]
  },
  {
   "cell_type": "markdown",
   "id": "ae32125a",
   "metadata": {},
   "source": [
    "- If this data was to be used to predict the consumption of a particular tank, what machine learning models do you think would perform best? (I said... Linear regression)\n",
    "- The data provided has been pre-processed already; what further pre-processing operations can you think of that could have been applied to generate this data? (I said... Outlier treatment, missing value treatment..)\n",
    "- How would you deploy the API in a production setting? (I said... Docker deployment or cloud solutions.)"
   ]
  },
  {
   "cell_type": "markdown",
   "id": "89e5c479",
   "metadata": {},
   "source": [
    "_My expericence_: I was not familiar with API creation in Python but I knew the concepts but somehow managed to do some predictions but could not make up to the final round. (Hard Luck!)"
   ]
  }
 ],
 "metadata": {},
 "nbformat": 4,
 "nbformat_minor": 5
}
