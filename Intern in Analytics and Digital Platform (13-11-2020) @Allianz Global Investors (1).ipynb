{
 "cells": [
  {
   "cell_type": "markdown",
   "id": "f31ecc95",
   "metadata": {},
   "source": [
    "# Direct Interview call\n",
    "\n",
    "- Two interviewers were there who gave a brief introduction to the projects and ongoings at this position. It was based on Munich.\n",
    "- They reviewed the Cover letter and confirmed the fact check.\n",
    "- I started with my introduction... and why for this position.\n",
    "- They asked questions related to Python such as what is `PEP8` in Python, where do you look up for coding in Python (eg. sources), Basic data types in Python, features of Python.\n",
    "- They asked about certain ML algorithms that I used in my projects. How do you rate the performance of your models.\n",
    "- Aksed about **k-means** algorithm. The Pseudocode and how it basically works and how it should be implemented in Python.\n",
    "- Would you use only model in production or collection of models in production and why would you do that? Explain the rationale.\n",
    "- How do you initialize the clusters in kmeans (I said... by **kmeans++**)."
   ]
  },
  {
   "cell_type": "markdown",
   "id": "dbe7a0de",
   "metadata": {},
   "source": [
    "_They asked for the GitHub account to see my work. Then they never called me back!_"
   ]
  }
 ],
 "metadata": {
  "kernelspec": {
   "display_name": "Python 3",
   "language": "python",
   "name": "python3"
  },
  "language_info": {
   "codemirror_mode": {
    "name": "ipython",
    "version": 3
   },
   "file_extension": ".py",
   "mimetype": "text/x-python",
   "name": "python",
   "nbconvert_exporter": "python",
   "pygments_lexer": "ipython3",
   "version": "3.8.11"
  }
 },
 "nbformat": 4,
 "nbformat_minor": 5
}
