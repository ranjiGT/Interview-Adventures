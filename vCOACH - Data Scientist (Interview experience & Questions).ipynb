{
 "cells": [
  {
   "cell_type": "markdown",
   "id": "7999e6fa",
   "metadata": {},
   "source": [
    "# The Technical Interview (60-75 minutes)\n",
    "\n",
    "## The Technical Interview has 3 parts.\n",
    "\n",
    "- Who are you and what are you looking for? (**20 minutes**)\n",
    "- A theoretical part. Questions about Computer Science, Python, Machine Learning and Statistics (**20 minutes**)\n",
    "- A practical part (**30 minutes**)\n",
    "    - You will be expected to program on your computer while sharing your screen. You will only need a browser. Make sure you have a stable internet connection. If you are familiar building ML models with pandas, matplotlib, sklearn or other libraries of your choice, this will be fun. Using Web Search is allowed, this is not a memory exercise.\n",
    "    - Most parts of the interview will be a pair programming session. This way, we can talk about your thought process more than just looking at code."
   ]
  },
  {
   "cell_type": "markdown",
   "id": "b1112b89",
   "metadata": {},
   "source": [
    "# PART A\n",
    "\n",
    "### Initial phase of the interview began with a gentle introduction about myself and some of my projects and my areas of expertise"
   ]
  },
  {
   "cell_type": "markdown",
   "id": "eda3dc58",
   "metadata": {},
   "source": [
    "# PART B\n",
    "\n",
    "## Set of questions that I remember...\n",
    "\n",
    "- Features of Python programming? (I said... Open source, Portability, Dynamically Typed, etc...)\n",
    "- How memory management works in Python? (I said... concepts related to garbage collection (gc) and heap memory)\n",
    "- Tell the libaries that you have worked on your assignments and projects and most familiar with (I said... pandas, numpy, matplotlib, seaborn, statsmodels.api)\n",
    "- How can we implement an alternative to `dict` data structure in Python for storing key-value pairs (I took some time and answered... *getter()* and *setter()* or by *maps*)\n",
    "- Why numpy arrays are faster than usual arrays (I said... due to `homogenity` and `locality of reference` and some wrapper fucntions are written in C/C++ which makes them superior in computation.)\n",
    "- Explain general idea of Overfitting! (I said... when train error is low and test error is high it happens. He was not satisfied then I took a touch with bias-variance and explained it again. It worked!)\n",
    "- How to prevent overfitting in Tree modes (like Xgboost) (I said... by reducing the amount of bias in the model and removing irrelevant nodes.)\n",
    "- How to prevent overfitting in `Neural Nets` (I said... adding **dropouts** and certain regularization techniques like L1 or L2.)\n",
    "- Any techniques to convert a categorical column for doing prediction? any encoding/transformation (I said... One hot coding.)\n",
    "- How array slicing works in Python and why it has negative indexes (I said... [start:stop:step] and gave an example operation on a dataframe, later part for -ve indexes is for reversing the array.)"
   ]
  },
  {
   "cell_type": "markdown",
   "id": "2e04903e",
   "metadata": {},
   "source": [
    "# PART C\n",
    "\n",
    "## A task for kaggle based on a NLP problem was asked. Aim was to predict the target column based on the text data and also visualize a confusion matrix.\n",
    "\n",
    "(*Personally found a lot of time crucnch. But he was open to use internet to understand what and how one troubleshoots the problem considering that this is not a memory task.*)\n",
    "\n",
    "I could build a Multinomial Naive Bayes with a accuracy of 68.7%. \n",
    "<https://www.kaggle.com/c/nlp-getting-started>"
   ]
  }
 ],
 "metadata": {
  "kernelspec": {
   "display_name": "Python 3",
   "language": "python",
   "name": "python3"
  },
  "language_info": {
   "codemirror_mode": {
    "name": "ipython",
    "version": 3
   },
   "file_extension": ".py",
   "mimetype": "text/x-python",
   "name": "python",
   "nbconvert_exporter": "python",
   "pygments_lexer": "ipython3",
   "version": "3.8.11"
  }
 },
 "nbformat": 4,
 "nbformat_minor": 5
}
