{
 "cells": [
  {
   "cell_type": "markdown",
   "id": "58103c82",
   "metadata": {},
   "source": [
    "# The Interview was just to get-to-know the candidates and this was for a Deep Learning specialist for Neurodegenerative diseases. "
   ]
  },
  {
   "cell_type": "markdown",
   "id": "d61a2b60",
   "metadata": {},
   "source": [
    "- Interviewer was very cool and I felt very much comfortable during the process. Moreover it was a discussion rather than the actual interview. \n",
    "- I gave my introduction.\n",
    "- I mentioned about my projects and what I am looking for.\n",
    "- Asked me about my experience with DL.\n",
    "- Asked me about my YouTube channel! (this was a surprise and he really gave a pat on my back for my work! I was 99.999% happy rest 1% was the following interview.)\n",
    "- Asked me about my publications, books and research papers.\n",
    "- Asked about on topics like LSTMs, Teacher forcing, CNN, Overfitting and its minimization.\n",
    "- Asked about expericences in Kaggle competition and Leetcodes."
   ]
  }
 ],
 "metadata": {
  "kernelspec": {
   "display_name": "Python 3",
   "language": "python",
   "name": "python3"
  },
  "language_info": {
   "codemirror_mode": {
    "name": "ipython",
    "version": 3
   },
   "file_extension": ".py",
   "mimetype": "text/x-python",
   "name": "python",
   "nbconvert_exporter": "python",
   "pygments_lexer": "ipython3",
   "version": "3.8.11"
  }
 },
 "nbformat": 4,
 "nbformat_minor": 5
}
